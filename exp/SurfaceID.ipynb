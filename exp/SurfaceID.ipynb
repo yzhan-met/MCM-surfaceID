{
 "cells": [
  {
   "cell_type": "markdown",
   "metadata": {},
   "source": [
    "    Retrieve maximum BRDF first."
   ]
  },
  {
   "cell_type": "code",
   "execution_count": 4,
   "metadata": {
    "pycharm": {
     "is_executing": false
    }
   },
   "outputs": [
    {
     "name": "stderr",
     "text": [
      "ERROR:root:File `'MCM_SMB_retrieval.py'` not found.\n"
     ],
     "output_type": "stream"
    }
   ],
   "source": [
    "%run MCM_SMB_retrieval.py"
   ]
  },
  {
   "cell_type": "markdown",
   "metadata": {},
   "source": [
    "\n",
    "    Author@Yizhe\n",
    "\n",
    "    Created on Oct 1, 2019\n",
    "\n",
    "    Retrieve the surface ID from the maxBRF_XX_DoY.nc dataset.  \n",
    "    Running this script to generate SurfaceID_PTA_xxx.nc data files storing the surface ID and the representative BRDF for each surface category for the specified PTA."
   ]
  },
  {
   "cell_type": "code",
   "execution_count": 5,
   "metadata": {
    "pycharm": {
     "is_executing": false
    }
   },
   "outputs": [
    {
     "traceback": [
      "\u001b[0;31m---------------------------------------------------------------------------\u001b[0m",
      "\u001b[0;31mModuleNotFoundError\u001b[0m                       Traceback (most recent call last)",
      "\u001b[0;32m<ipython-input-5-53842717fdc3>\u001b[0m in \u001b[0;36m<module>\u001b[0;34m()\u001b[0m\n\u001b[1;32m      2\u001b[0m \u001b[0;32mimport\u001b[0m \u001b[0mnumpy\u001b[0m \u001b[0;32mas\u001b[0m \u001b[0mnp\u001b[0m\u001b[0;34m\u001b[0m\u001b[0;34m\u001b[0m\u001b[0m\n\u001b[1;32m      3\u001b[0m \u001b[0;32mimport\u001b[0m \u001b[0mxarray\u001b[0m \u001b[0;32mas\u001b[0m \u001b[0mxr\u001b[0m\u001b[0;34m\u001b[0m\u001b[0;34m\u001b[0m\u001b[0m\n\u001b[0;32m----> 4\u001b[0;31m \u001b[0;32mfrom\u001b[0m \u001b[0msklearn\u001b[0m\u001b[0;34m.\u001b[0m\u001b[0mcluster\u001b[0m \u001b[0;32mimport\u001b[0m \u001b[0mMiniBatchKMeans\u001b[0m\u001b[0;34m\u001b[0m\u001b[0;34m\u001b[0m\u001b[0m\n\u001b[0m",
      "\u001b[0;31mModuleNotFoundError\u001b[0m: No module named 'sklearn'"
     ],
     "ename": "ModuleNotFoundError",
     "evalue": "No module named 'sklearn'",
     "output_type": "error"
    }
   ],
   "source": [
    "import numpy as np\n",
    "import xarray as xr\n",
    "from sklearn.cluster import MiniBatchKMeans"
   ]
  },
  {
   "cell_type": "markdown",
   "metadata": {},
   "source": [
    "    use xarray.open_mfdataset to implement dask multi-processor.  \n",
    "\n",
    "    the data array -- target_max_brf -- contains three fillin values:  \n",
    "    \n",
    "    (1) -997. : these points are preset for water category (consist of shallow and deep ocean);  \n",
    "    (2) -998. : these points are preset for coastal category (consist of coastline, P. shallow inland water, S. inland water, P. deep inland water);  \n",
    "    (3) -999. : these points are neither MAIA-water nor MAIA-coastal and have invalid RTLS coefficients for more than 5 years."
   ]
  },
  {
   "cell_type": "code",
   "execution_count": null,
   "metadata": {
    "scrolled": true,
    "pycharm": {
     "is_executing": false
    }
   },
   "outputs": [],
   "source": [
    "DS = xr.open_mfdataset('MAIAC_SMB/maxBRF_LA_048.nc')\n",
    "print(DS)"
   ]
  },
  {
   "cell_type": "markdown",
   "metadata": {},
   "source": [
    "    ===========K-means clustering==========="
   ]
  },
  {
   "cell_type": "code",
   "execution_count": null,
   "metadata": {
    "scrolled": true,
    "pycharm": {
     "is_executing": false
    }
   },
   "outputs": [],
   "source": [
    "sel_data = DS.max_BRF.sel(vza=[2.5, 27.5, 42.5, 62.5, 72.5], \n",
    "                          raz=[22.5, 52.5, 97.5, 127.5, 157.5]\n",
    "                         )\n",
    "\n",
    "# sel_data = DS.max_BRF\n",
    "filled_sel_data = sel_data.fillna(-996.)\n",
    "print(filled_sel_data)"
   ]
  },
  {
   "cell_type": "code",
   "execution_count": null,
   "metadata": {
    "pycharm": {
     "is_executing": false
    }
   },
   "outputs": [],
   "source": [
    "sample_data = filled_sel_data[:, :, 0, 0, 0]\n",
    "idx_coastal = np.where(sample_data==-997.)\n",
    "idx_water = np.where(sample_data==-998.)\n",
    "idx_unknown = np.where(sample_data==-996.)"
   ]
  },
  {
   "cell_type": "code",
   "execution_count": null,
   "metadata": {
    "pycharm": {
     "is_executing": false
    }
   },
   "outputs": [],
   "source": [
    "# print(idx_coastal[0].shape[0], idx_water[0].shape[0], idx_unknown[0].shape[0])"
   ]
  },
  {
   "cell_type": "code",
   "execution_count": null,
   "metadata": {
    "pycharm": {
     "is_executing": false
    }
   },
   "outputs": [],
   "source": [
    "stacked_filled_sel_data = sel_data.stack(i=('y', 'x'), z=('cos_sza', 'vza', 'raz'))\n",
    "input_data = stacked_filled_sel_data.values"
   ]
  },
  {
   "cell_type": "code",
   "execution_count": null,
   "metadata": {
    "pycharm": {
     "is_executing": false
    }
   },
   "outputs": [],
   "source": [
    "# whiten data -- equivalent to using sklearn.preprocessing.StandardScaler\n",
    "np.place(input_data, input_data<-900., np.nan)\n",
    "input_data_mean = np.nanmean(input_data, axis=0)\n",
    "input_data_std = np.nanstd(input_data, axis=0)\n",
    "whitened_data = (input_data - input_data_mean) / input_data_std\n",
    "idx_nan = xr.ufuncs.isnan(whitened_data)\n",
    "whitened_data[idx_nan] = -9999."
   ]
  },
  {
   "cell_type": "code",
   "execution_count": null,
   "metadata": {
    "pycharm": {
     "is_executing": false
    }
   },
   "outputs": [],
   "source": [
    "n_clusters = 23\n",
    "\n",
    "# cluster the whitened data\n",
    "minibatch_kmeans = MiniBatchKMeans(\n",
    "    n_clusters=n_clusters,\n",
    "    init='k-means++',\n",
    "    random_state=0,\n",
    "    batch_size=1000,\n",
    "    verbose=0,\n",
    "    max_no_improvement=100).fit(whitened_data)\n",
    "\n",
    "unsorted_labels = minibatch_kmeans.labels_.reshape(1000, 1000)"
   ]
  },
  {
   "cell_type": "markdown",
   "metadata": {},
   "source": [
    "    ===========sort labels==========="
   ]
  },
  {
   "cell_type": "markdown",
   "metadata": {},
   "source": [
    "calculate grid_mean_BRF"
   ]
  },
  {
   "cell_type": "code",
   "execution_count": null,
   "metadata": {
    "scrolled": true,
    "pycharm": {
     "is_executing": false
    }
   },
   "outputs": [],
   "source": [
    "grid_mean_BRF = stacked_filled_sel_data.unstack('i').mean(axis=0).values"
   ]
  },
  {
   "cell_type": "markdown",
   "metadata": {},
   "source": [
    "use grid_mean_BRF to get unsorted_cluster_mean_BRF"
   ]
  },
  {
   "cell_type": "code",
   "execution_count": null,
   "metadata": {
    "pycharm": {
     "is_executing": false
    }
   },
   "outputs": [],
   "source": [
    "\n",
    "unsorted_cluster_mean_BRF = []\n",
    "for icluster in np.arange(n_clusters):\n",
    "    _cluster_BRF = grid_mean_BRF[unsorted_labels == icluster]\n",
    "    unsorted_cluster_mean_BRF.append(np.nanmean(_cluster_BRF))"
   ]
  },
  {
   "cell_type": "markdown",
   "metadata": {},
   "source": [
    "get sorted_labels based on unsorted_cluster_mean_BRF (small to large)"
   ]
  },
  {
   "cell_type": "code",
   "execution_count": null,
   "metadata": {
    "code_folding": [],
    "pycharm": {
     "is_executing": false
    }
   },
   "outputs": [],
   "source": [
    "\n",
    "# assign a number to each cluster_mean_BRF\n",
    "unsorted_clusters = np.dstack([range(n_clusters), unsorted_cluster_mean_BRF])[0]\n",
    "\n",
    "# sort the rest\n",
    "sorted_clusters = np.array(sorted(unsorted_clusters, key=lambda x: x[1]))[:, 0]\n",
    "\n",
    "# sort labels (0--n_clusters where category 0 is for unconsidered points)\n",
    "sorted_labels = unsorted_labels.copy()\n",
    "for i, j in enumerate(sorted_clusters):\n",
    "    np.place(sorted_labels, unsorted_labels==j, 101+i)\n",
    "sorted_labels -= 100\n",
    "\n",
    "# \n",
    "sorted_labels[idx_water] = 0\n",
    "sorted_labels[idx_coastal] = 1\n",
    "sorted_labels[idx_unknown] = 1"
   ]
  },
  {
   "cell_type": "markdown",
   "metadata": {},
   "source": [
    "use sorted_labels to calculate some statistics within each sorted cluster"
   ]
  },
  {
   "cell_type": "code",
   "execution_count": null,
   "metadata": {
    "scrolled": false,
    "pycharm": {
     "is_executing": false
    }
   },
   "outputs": [],
   "source": [
    "\n",
    "sorted_cluster_std_BRF = []\n",
    "sorted_cluster_mean_BRF = []\n",
    "sorted_cluster_tot_num = []\n",
    "\n",
    "# plus 1 because adding water type (0)\n",
    "for icluster in np.arange(n_clusters+1):\n",
    "    _cluster_BRF = grid_mean_BRF[sorted_labels == icluster]\n",
    "    \n",
    "    sorted_cluster_mean_BRF.append(np.nanmean(_cluster_BRF))\n",
    "    sorted_cluster_std_BRF.append(np.nanstd(_cluster_BRF))\n",
    "    sorted_cluster_tot_num.append(len(_cluster_BRF))\n",
    "    \n",
    "    print \"{:2d} {:6d} {:.2f} {:.2f}\".format(icluster, sorted_cluster_tot_num[icluster], \n",
    "                    sorted_cluster_mean_BRF[icluster], sorted_cluster_std_BRF[icluster])\n",
    "    \n",
    "    "
   ]
  },
  {
   "cell_type": "markdown",
   "metadata": {},
   "source": [
    "    Retrieve maximum BRF"
   ]
  },
  {
   "cell_type": "code",
   "execution_count": null,
   "metadata": {
    "pycharm": {
     "is_executing": false
    }
   },
   "outputs": [],
   "source": [
    "# calculate category-wise BRDF stats (max&min&mean)\n",
    "ncats = np.arange(2, n_clusters)\n",
    "cat_BRDF_stats = []\n",
    "for icat in ncats:\n",
    "    idx_cat = np.where(sorted_labels == icat)\n",
    "    cat_BRDF_stats.append(np.max(TARGET_max_brf[idx_cat], axis=0))"
   ]
  },
  {
   "cell_type": "markdown",
   "metadata": {},
   "source": [
    "    Save surface ID!"
   ]
  },
  {
   "cell_type": "code",
   "execution_count": null,
   "metadata": {
    "pycharm": {
     "is_executing": false
    }
   },
   "outputs": [],
   "source": [
    "out_nc = \"SurfaceID_LA_048.nc\"\n",
    "\n",
    "MAIA_lats = DS.Latitude\n",
    "MAIA_lons = DS.Longitude\n",
    "MAIA_lats.to_netcdf(out_nc, 'w')\n",
    "MAIA_lons.to_netcdf(out_nc, 'a')\n",
    "\n",
    "MAIA_labels = xr.DataArray(sorted_labels, name='surface_ID',\n",
    "                           dims=['y', 'x'],\n",
    "                           coords = {'lat': (('y', 'x'), MAIA_lats),\n",
    "                                     'lon': (('y', 'x'), MAIA_lons)})\n",
    "MAIA_labels.to_netcdf(out_nc, 'a')"
   ]
  },
  {
   "cell_type": "markdown",
   "metadata": {},
   "source": [
    "    ===========show labels==========="
   ]
  },
  {
   "cell_type": "code",
   "execution_count": null,
   "metadata": {
    "scrolled": false,
    "pycharm": {
     "is_executing": false
    }
   },
   "outputs": [],
   "source": [
    "import xarray as xr\n",
    "import cartopy.crs as ccrs\n",
    "import matplotlib.pyplot as plt\n",
    "%matplotlib notebook\n",
    "\n",
    "\n",
    "DS_sfcID = xr.open_dataset('SurfaceID_LA_048.nc')\n",
    "sfcID = DS_sfcID.surface_ID\n",
    "\n",
    "ax = plt.axes(projection=ccrs.Orthographic(-100, 35))\n",
    "\n",
    "# sfcID.plot.imshow(levels=23, vmax=22, origin='upper', cmap='RdYlBu_r')\n",
    "sfcID.plot.pcolormesh('lon', 'lat', ax=ax, transform=ccrs.PlateCarree(), levels=n_clusters+2, vmax=n_clusters, cmap='RdYlBu_r');\n",
    "\n",
    "ax.set_global()\n",
    "ax.coastlines(resolution='10m')\n",
    "\n",
    "plt.show()"
   ]
  },
  {
   "cell_type": "code",
   "execution_count": null,
   "metadata": {
    "pycharm": {
     "is_executing": false
    }
   },
   "outputs": [],
   "source": []
  },
  {
   "cell_type": "code",
   "execution_count": null,
   "metadata": {
    "pycharm": {
     "is_executing": false
    }
   },
   "outputs": [],
   "source": []
  }
 ],
 "metadata": {
  "kernelspec": {
   "display_name": "Python 3",
   "language": "python",
   "name": "python3"
  },
  "language_info": {
   "codemirror_mode": {
    "name": "ipython",
    "version": 3
   },
   "file_extension": ".py",
   "mimetype": "text/x-python",
   "name": "python",
   "nbconvert_exporter": "python",
   "pygments_lexer": "ipython3",
   "version": "3.7.6"
  },
  "toc": {
   "base_numbering": 1,
   "nav_menu": {},
   "number_sections": true,
   "sideBar": true,
   "skip_h1_title": false,
   "title_cell": "Table of Contents",
   "title_sidebar": "Contents",
   "toc_cell": false,
   "toc_position": {},
   "toc_section_display": true,
   "toc_window_display": false
  },
  "pycharm": {
   "stem_cell": {
    "cell_type": "raw",
    "source": [],
    "metadata": {
     "collapsed": false
    }
   }
  }
 },
 "nbformat": 4,
 "nbformat_minor": 2
}
